{
 "cells": [
  {
   "cell_type": "code",
   "execution_count": 6,
   "metadata": {},
   "outputs": [],
   "source": [
    "import pandas as pd\n",
    "import os\n",
    "import numpy as np\n",
    "import matplotlib.pyplot as plt\n",
    "import csv\n",
    "%matplotlib inline\n",
    "import astropy.units as u\n",
    "from scipy.optimize import curve_fit\n",
    "from astropy import modeling\n",
    "from scipy.stats import norm\n",
    "import math\n",
    "import seaborn as sns\n",
    "from scipy.signal import find_peaks\n",
    "import scipy.stats as stats\n",
    "import scipy.stats"
   ]
  },
  {
   "cell_type": "code",
   "execution_count": 7,
   "metadata": {},
   "outputs": [
    {
     "name": "stdout",
     "output_type": "stream",
     "text": [
      "Index(['index', 'Object', 'RA', 'DEC', 'R_mag', 'R_Extinction', 'R_err',\n",
      "       'Redshift', 'Z_Err'],\n",
      "      dtype='object')\n"
     ]
    },
    {
     "data": {
      "text/html": [
       "<div>\n",
       "<style scoped>\n",
       "    .dataframe tbody tr th:only-of-type {\n",
       "        vertical-align: middle;\n",
       "    }\n",
       "\n",
       "    .dataframe tbody tr th {\n",
       "        vertical-align: top;\n",
       "    }\n",
       "\n",
       "    .dataframe thead th {\n",
       "        text-align: right;\n",
       "    }\n",
       "</style>\n",
       "<table border=\"1\" class=\"dataframe\">\n",
       "  <thead>\n",
       "    <tr style=\"text-align: right;\">\n",
       "      <th></th>\n",
       "      <th>index</th>\n",
       "      <th>Object</th>\n",
       "      <th>RA</th>\n",
       "      <th>DEC</th>\n",
       "      <th>R_mag</th>\n",
       "      <th>R_Extinction</th>\n",
       "      <th>R_err</th>\n",
       "      <th>Redshift</th>\n",
       "      <th>Z_Err</th>\n",
       "    </tr>\n",
       "  </thead>\n",
       "  <tbody>\n",
       "    <tr>\n",
       "      <td>0</td>\n",
       "      <td>2</td>\n",
       "      <td>1237665429163540622</td>\n",
       "      <td>195.004669348992</td>\n",
       "      <td>29.9040553214277</td>\n",
       "      <td>15.95063</td>\n",
       "      <td>0.02680067</td>\n",
       "      <td>0.006759764</td>\n",
       "      <td>0.02439049</td>\n",
       "      <td>4.490061E-05</td>\n",
       "    </tr>\n",
       "    <tr>\n",
       "      <td>1</td>\n",
       "      <td>3</td>\n",
       "      <td>1237665429163671616</td>\n",
       "      <td>195.432840941863</td>\n",
       "      <td>29.9268245585297</td>\n",
       "      <td>15.22686</td>\n",
       "      <td>0.02600609</td>\n",
       "      <td>0.002638362</td>\n",
       "      <td>0.03071232</td>\n",
       "      <td>9.51011E-06</td>\n",
       "    </tr>\n",
       "    <tr>\n",
       "      <td>2</td>\n",
       "      <td>4</td>\n",
       "      <td>1237665429163868290</td>\n",
       "      <td>195.922969266965</td>\n",
       "      <td>29.8182651375338</td>\n",
       "      <td>16.63505</td>\n",
       "      <td>0.02555933</td>\n",
       "      <td>0.004673115</td>\n",
       "      <td>0.02341527</td>\n",
       "      <td>1.647268E-05</td>\n",
       "    </tr>\n",
       "    <tr>\n",
       "      <td>3</td>\n",
       "      <td>5</td>\n",
       "      <td>1237665429163999402</td>\n",
       "      <td>196.287183255371</td>\n",
       "      <td>29.8810071752924</td>\n",
       "      <td>17.7523</td>\n",
       "      <td>0.02779992</td>\n",
       "      <td>0.009150163</td>\n",
       "      <td>0.02310053</td>\n",
       "      <td>6.071381E-05</td>\n",
       "    </tr>\n",
       "    <tr>\n",
       "      <td>4</td>\n",
       "      <td>6</td>\n",
       "      <td>1237665429164064924</td>\n",
       "      <td>196.462505961756</td>\n",
       "      <td>29.8099885355441</td>\n",
       "      <td>15.42921</td>\n",
       "      <td>0.02690853</td>\n",
       "      <td>0.002821628</td>\n",
       "      <td>0.02362778</td>\n",
       "      <td>1.195025E-05</td>\n",
       "    </tr>\n",
       "    <tr>\n",
       "      <td>...</td>\n",
       "      <td>...</td>\n",
       "      <td>...</td>\n",
       "      <td>...</td>\n",
       "      <td>...</td>\n",
       "      <td>...</td>\n",
       "      <td>...</td>\n",
       "      <td>...</td>\n",
       "      <td>...</td>\n",
       "      <td>...</td>\n",
       "    </tr>\n",
       "    <tr>\n",
       "      <td>1180</td>\n",
       "      <td>1182</td>\n",
       "      <td>1237667323261157433</td>\n",
       "      <td>195.592949555732</td>\n",
       "      <td>27.1879222488313</td>\n",
       "      <td>17.69246</td>\n",
       "      <td>0.02317949</td>\n",
       "      <td>0.007562496</td>\n",
       "      <td>0.03573755</td>\n",
       "      <td>1.065324E-05</td>\n",
       "    </tr>\n",
       "    <tr>\n",
       "      <td>1181</td>\n",
       "      <td>1183</td>\n",
       "      <td>1237667323261157453</td>\n",
       "      <td>195.636449334602</td>\n",
       "      <td>27.2955624355497</td>\n",
       "      <td>15.59799</td>\n",
       "      <td>0.01983745</td>\n",
       "      <td>0.003505023</td>\n",
       "      <td>0.02537541</td>\n",
       "      <td>1.715199E-05</td>\n",
       "    </tr>\n",
       "    <tr>\n",
       "      <td>1182</td>\n",
       "      <td>1184</td>\n",
       "      <td>1237667323261419640</td>\n",
       "      <td>196.348700721272</td>\n",
       "      <td>27.1016293869116</td>\n",
       "      <td>17.37042</td>\n",
       "      <td>0.02846028</td>\n",
       "      <td>0.00964005</td>\n",
       "      <td>0.02409993</td>\n",
       "      <td>6.00014E-05</td>\n",
       "    </tr>\n",
       "    <tr>\n",
       "      <td>1183</td>\n",
       "      <td>1185</td>\n",
       "      <td>1237667323261420083</td>\n",
       "      <td>196.356662945501</td>\n",
       "      <td>27.0796623723678</td>\n",
       "      <td>17.14784</td>\n",
       "      <td>0.0284242</td>\n",
       "      <td>0.01207775</td>\n",
       "      <td>0.02376505</td>\n",
       "      <td>8.452698E-05</td>\n",
       "    </tr>\n",
       "    <tr>\n",
       "      <td>1184</td>\n",
       "      <td>1186</td>\n",
       "      <td>1237667323261550614</td>\n",
       "      <td>196.648306175894</td>\n",
       "      <td>27.1687227833727</td>\n",
       "      <td>14.49589</td>\n",
       "      <td>0.0309444</td>\n",
       "      <td>0.002225147</td>\n",
       "      <td>0.02576452</td>\n",
       "      <td>8.030907E-06</td>\n",
       "    </tr>\n",
       "  </tbody>\n",
       "</table>\n",
       "<p>1185 rows × 9 columns</p>\n",
       "</div>"
      ],
      "text/plain": [
       "      index               Object                RA               DEC  \\\n",
       "0         2  1237665429163540622  195.004669348992  29.9040553214277   \n",
       "1         3  1237665429163671616  195.432840941863  29.9268245585297   \n",
       "2         4  1237665429163868290  195.922969266965  29.8182651375338   \n",
       "3         5  1237665429163999402  196.287183255371  29.8810071752924   \n",
       "4         6  1237665429164064924  196.462505961756  29.8099885355441   \n",
       "...     ...                  ...               ...               ...   \n",
       "1180   1182  1237667323261157433  195.592949555732  27.1879222488313   \n",
       "1181   1183  1237667323261157453  195.636449334602  27.2955624355497   \n",
       "1182   1184  1237667323261419640  196.348700721272  27.1016293869116   \n",
       "1183   1185  1237667323261420083  196.356662945501  27.0796623723678   \n",
       "1184   1186  1237667323261550614  196.648306175894  27.1687227833727   \n",
       "\n",
       "         R_mag R_Extinction        R_err    Redshift         Z_Err  \n",
       "0     15.95063   0.02680067  0.006759764  0.02439049  4.490061E-05  \n",
       "1     15.22686   0.02600609  0.002638362  0.03071232   9.51011E-06  \n",
       "2     16.63505   0.02555933  0.004673115  0.02341527  1.647268E-05  \n",
       "3      17.7523   0.02779992  0.009150163  0.02310053  6.071381E-05  \n",
       "4     15.42921   0.02690853  0.002821628  0.02362778  1.195025E-05  \n",
       "...        ...          ...          ...         ...           ...  \n",
       "1180  17.69246   0.02317949  0.007562496  0.03573755  1.065324E-05  \n",
       "1181  15.59799   0.01983745  0.003505023  0.02537541  1.715199E-05  \n",
       "1182  17.37042   0.02846028   0.00964005  0.02409993   6.00014E-05  \n",
       "1183  17.14784    0.0284242   0.01207775  0.02376505  8.452698E-05  \n",
       "1184  14.49589    0.0309444  0.002225147  0.02576452  8.030907E-06  \n",
       "\n",
       "[1185 rows x 9 columns]"
      ]
     },
     "execution_count": 7,
     "metadata": {},
     "output_type": "execute_result"
    }
   ],
   "source": [
    "column = ['Object', 'RA', 'DEC', 'R_mag','R_Extinction','R_err', 'Redshift', \"Z_Err\"]\n",
    "data = pd.read_csv('Galaxy_Data1.csv', names = column)[2:]\n",
    "data = data.reset_index(drop=False)\n",
    "data.shape\n",
    "print(data.columns)\n",
    "data\n"
   ]
  },
  {
   "cell_type": "code",
   "execution_count": 8,
   "metadata": {},
   "outputs": [
    {
     "data": {
      "text/plain": [
       "Text(0.5, 1.0, 'Position of Galaxies in the Sky')"
      ]
     },
     "execution_count": 8,
     "metadata": {},
     "output_type": "execute_result"
    },
    {
     "data": {
      "image/png": "[encoded data removed]",
      "text/plain": [
       "<Figure size 504x504 with 1 Axes>"
      ]
     },
     "metadata": {
      "needs_background": "light"
     },
     "output_type": "display_data"
    }
   ],
   "source": [
    "data.RA = data.RA.astype(float)\n",
    "data.DEC = data.DEC.astype(float)\n",
    "plt.figure(figsize= (7,7))\n",
    "plt.scatter(data.RA, data.DEC, color = 'indigo', s=2)\n",
    "plt.xlabel('Right Ascention (degrees)')\n",
    "plt.ylabel('Declination (degrees)')\n",
    "plt.grid()\n",
    "plt.title('Position of Galaxies in the Sky')"
   ]
  },
  {
   "cell_type": "code",
   "execution_count": 9,
   "metadata": {},
   "outputs": [
    {
     "name": "stdout",
     "output_type": "stream",
     "text": [
      "0       0.02439049\n",
      "1       0.03071232\n",
      "2       0.02341527\n",
      "3       0.02310053\n",
      "4       0.02362778\n",
      "           ...    \n",
      "1180    0.03573755\n",
      "1181    0.02537541\n",
      "1182    0.02409993\n",
      "1183    0.02376505\n",
      "1184    0.02576452\n",
      "Name: Redshift, Length: 1185, dtype: object\n"
     ]
    }
   ],
   "source": [
    "print(data.Redshift)"
   ]
  },
  {
   "cell_type": "code",
   "execution_count": 10,
   "metadata": {},
   "outputs": [
    {
     "name": "stdout",
     "output_type": "stream",
     "text": [
      "194.8357982110001 deg\n"
     ]
    }
   ],
   "source": [
    "#Weighted mean of the RA with the R_mag as the weight in degrees\n",
    "\n",
    "data.R_err = data.R_err.astype(float)\n",
    "data.R_mag = data.R_mag.astype(float)\n",
    "\n",
    "def wavg(group, RA ,R_mag):\n",
    "\n",
    "    d = group[RA]\n",
    "    w = group[R_mag]\n",
    "    try:\n",
    "        return (d * w).sum() / w.sum()\n",
    "    except ZeroDivisionError:\n",
    "        return d.mean()\n",
    "\n",
    "RA_mean = wavg(data, \"RA\", \"R_mag\")\n",
    "print(RA_mean * u.deg)"
   ]
  },
  {
   "cell_type": "code",
   "execution_count": 11,
   "metadata": {},
   "outputs": [
    {
     "name": "stdout",
     "output_type": "stream",
     "text": [
      "27.968503044492955 deg\n"
     ]
    }
   ],
   "source": [
    "#Weighted mean of DEC using R_mag as the weight in degrees\n",
    "\n",
    "def wavg(group, DEC ,R_mag):\n",
    "\n",
    "    e = group[DEC]\n",
    "    f = group[R_mag]\n",
    "    try:\n",
    "        return (e * f).sum() / f.sum()\n",
    "    except ZeroDivisionError:\n",
    "        return e.mean()\n",
    "\n",
    "DEC_mean = wavg(data, \"DEC\", \"R_mag\")\n",
    "print(DEC_mean * u.deg)"
   ]
  },
  {
   "cell_type": "code",
   "execution_count": 12,
   "metadata": {},
   "outputs": [
    {
     "data": {
      "image/png": "[encoded data removed]",
      "text/plain": [
       "<Figure size 432x288 with 1 Axes>"
      ]
     },
     "metadata": {
      "needs_background": "light"
     },
     "output_type": "display_data"
    }
   ],
   "source": [
    "#Plotting the histogram for the Redshifts of all the galaxies as well as a Gaussian curve fit\n",
    "\n",
    "\n",
    "def Gauss(x,amp,mean,sigma):\n",
    "    Gauss = amp*np.exp(-(x-mean)**2/(2*sigma**2))\n",
    "    return Gauss\n",
    "\n",
    "bins =int((0.05-0.005)/0.00075)\n",
    "\n",
    "#Plugged data into Logger Pro to find the std and mean since code was giving me errors\n",
    "std = 0.002882\n",
    "mean = 0.02345\n",
    "x = np.linspace(0.00,0.05, 300)\n",
    "#y = np.arange(0.00,0.05,0.00005)+0.001\n",
    "y = scipy.stats.norm.pdf(x,mean,std)\n",
    "\n",
    "\n",
    "\n",
    "#print(data.Redshift)\n",
    "a = np.asarray(data.Redshift,dtype=float) \n",
    "\n",
    "\n",
    "\n",
    "#Histo,bins= np.histogram(data.Redshift,bins)\n",
    "#Histo,bins= np.histogram(a,bins=binss,range=(0.0,0.05))\n",
    "#Histo,bins= np.histogram(a,bins,(0.0,0.05))\n",
    "#Histo,bins= np.histogram(data.Redshift,bins=binss, range=None)\n",
    "\n",
    "Yay,Nay = curve_fit(Gauss,x,y)\n",
    "\n",
    "plt.plot(x,y, color = 'red')\n",
    "plt.hist(a,bins,color='pink',label = 'Data')\n",
    "plt.xlabel('Redshift (Raw) Data')\n",
    "plt.ylabel('Frequency')\n",
    "plt.title('Redshift of all galaxies')\n",
    "plt.plot(x,Gauss(x,Yay[0],Yay[1],Yay[2]))\n",
    "plt.grid()\n"
   ]
  },
  {
   "cell_type": "code",
   "execution_count": 13,
   "metadata": {},
   "outputs": [
    {
     "name": "stdout",
     "output_type": "stream",
     "text": [
      "The distance to the Coma Cluster is 103.34756995581738\n"
     ]
    }
   ],
   "source": [
    "#Distance to Coma cluster using Dopler shift\n",
    "\n",
    "H_o = 67.9 #* u.km *u.s**-1 *u.Mpc**-1\n",
    "v = 7017.3 #* u.km * u.s**-1\n",
    "\n",
    "D = v/H_o\n",
    "\n",
    "print(\"The distance to the Coma Cluster is\", D)"
   ]
  },
  {
   "cell_type": "code",
   "execution_count": 14,
   "metadata": {},
   "outputs": [
    {
     "name": "stdout",
     "output_type": "stream",
     "text": [
      "0       3.492638\n",
      "1       3.534803\n",
      "2       3.338094\n",
      "3       3.452251\n",
      "4       3.324335\n",
      "          ...   \n",
      "1180    1.545058\n",
      "1181    1.457099\n",
      "1182    1.888082\n",
      "1183    1.893828\n",
      "1184    2.057448\n",
      "Length: 1185, dtype: float64\n"
     ]
    },
    {
     "data": {
      "text/latex": [
       "$2.0137184 \\; \\mathrm{rad}$"
      ],
      "text/plain": [
       "<Quantity 2.01371837 rad>"
      ]
     },
     "execution_count": 14,
     "metadata": {},
     "output_type": "execute_result"
    }
   ],
   "source": [
    "#Finding the projected radial distances from each galaxy to the Coma Cluster\n",
    "\n",
    "RA_proj = data.RA - RA_mean\n",
    "DEC_proj = data.DEC - DEC_mean\n",
    "\n",
    "angular_d = np.sqrt((RA_proj*np.cos(data.DEC))**2 + (DEC_proj)**2)\n",
    "conv_angular = np.radians(angular_d)\n",
    "\n",
    "Proj_rad = np.tan(conv_angular) * D\n",
    "print(Proj_rad)\n",
    "\n",
    "np.mean(Proj_rad) * u.rad"
   ]
  },
  {
   "cell_type": "code",
   "execution_count": 15,
   "metadata": {},
   "outputs": [
    {
     "name": "stdout",
     "output_type": "stream",
     "text": [
      "      index               Object          RA        DEC     R_mag  \\\n",
      "18       20  1237665440441892890  194.391192  28.482257  13.26373   \n",
      "19       21  1237665440441892891  194.383143  28.476943  12.46939   \n",
      "20       22  1237665440441892904  194.354395  28.495893  16.69903   \n",
      "21       23  1237665440441892998  194.474743  28.499807  15.10212   \n",
      "22       24  1237665440441958487  194.562768  28.521783  16.36541   \n",
      "...     ...                  ...         ...        ...       ...   \n",
      "1175   1177  1237667323260960965  195.099584  27.286927  17.79181   \n",
      "1176   1178  1237667323260961158  195.128497  27.300180  17.76642   \n",
      "1177   1179  1237667323261026354  195.294710  27.246498  15.89053   \n",
      "1178   1180  1237667323261091954  195.522999  27.297272  15.92124   \n",
      "1181   1183  1237667323261157453  195.636449  27.295562  15.59799   \n",
      "\n",
      "     R_Extinction     R_err  Redshift         Z_Err  \n",
      "18     0.02493722  0.001721  0.020874  7.538812E-06  \n",
      "19     0.02470157  0.001545  0.022568  9.289376E-06  \n",
      "20     0.02523897  0.006840  0.023948  4.263176E-05  \n",
      "21     0.02496104  0.002510  0.024360  8.756586E-06  \n",
      "22     0.02428056  0.004942  0.023039  7.102034E-06  \n",
      "...           ...       ...       ...           ...  \n",
      "1175   0.02212152  0.011336  0.024242  8.798552E-05  \n",
      "1176   0.02186261  0.013945  0.025642  0.0001176265  \n",
      "1177   0.01862935  0.005571  0.020613  3.581416E-05  \n",
      "1178   0.02144059  0.003591  0.024280  1.386967E-05  \n",
      "1181   0.01983745  0.003505  0.025375  1.715199E-05  \n",
      "\n",
      "[482 rows x 9 columns]\n"
     ]
    }
   ],
   "source": [
    "#Finding member galaxies\n",
    "\n",
    "data.Redshift = data.Redshift.astype(float)\n",
    "\n",
    "Gal_mem = data[Proj_rad < 1.5] #All projected radiuses that are greater than 1.5 Mpc\n",
    "Red_ = Gal_mem[abs(Gal_mem.Redshift-mean) < 3*std]\n",
    "print(Red_)\n"
   ]
  },
  {
   "cell_type": "code",
   "execution_count": 16,
   "metadata": {},
   "outputs": [
    {
     "name": "stdout",
     "output_type": "stream",
     "text": [
      "194.81224810449714 deg\n"
     ]
    }
   ],
   "source": [
    "#Weighted mean of RA for memeber galaxies \n",
    "def wavg(group, RA ,R_mag):\n",
    "\n",
    "    d = group[RA]\n",
    "    w = group[R_mag]\n",
    "    try:\n",
    "        return (d * w).sum() / w.sum()\n",
    "    except ZeroDivisionError:\n",
    "        return d.mean()\n",
    "\n",
    "RA_mean2 = wavg(Gal_mem, \"RA\", \"R_mag\")\n",
    "print(RA_mean2 * u.deg)\n"
   ]
  },
  {
   "cell_type": "code",
   "execution_count": 17,
   "metadata": {},
   "outputs": [
    {
     "name": "stdout",
     "output_type": "stream",
     "text": [
      "27.889903040620172 deg\n"
     ]
    }
   ],
   "source": [
    "#Weighted mean of DEC for member galaxies\n",
    "def wavg(group, DEC ,R_mag):\n",
    "\n",
    "    e = group[DEC]\n",
    "    f = group[R_mag]\n",
    "    try:\n",
    "        return (e * f).sum() / f.sum()\n",
    "    except ZeroDivisionError:\n",
    "        return e.mean()\n",
    "\n",
    "DEC_mean2 = wavg(Gal_mem, \"DEC\", \"R_mag\")\n",
    "print(DEC_mean2 * u.deg)"
   ]
  },
  {
   "cell_type": "code",
   "execution_count": 18,
   "metadata": {},
   "outputs": [],
   "source": [
    "\n",
    "#print(Gal_mem_red.Redshift.to_string())"
   ]
  },
  {
   "cell_type": "code",
   "execution_count": 19,
   "metadata": {},
   "outputs": [
    {
     "data": {
      "image/png": "[encoded data removed]",
      "text/plain": [
       "<Figure size 432x288 with 1 Axes>"
      ]
     },
     "metadata": {
      "needs_background": "light"
     },
     "output_type": "display_data"
    }
   ],
   "source": [
    "#Iteration 1 of the member galaxies\n",
    "\n",
    "def Gauss(x,amp,mean,sigma):\n",
    "    Gauss = amp*np.exp(-(x-mean)**2/(2*sigma**2))\n",
    "    return Gauss\n",
    "\n",
    "std = 0.009507\n",
    "mean = 0.02399\n",
    "x = np.linspace(0.00,0.05, 300)\n",
    "#y = np.arange(0.00,0.05,0.00005)+0.001\n",
    "y = scipy.stats.norm.pdf(x,mean,std)\n",
    "a = np.asarray(Gal_mem.Redshift,dtype=float)\n",
    "bins =int((0.5-0.005)/0.009+0.008)\n",
    "\n",
    "Yay,Nay = curve_fit(Gauss,x,y)\n",
    "\n",
    "plt.plot(x,y, color = 'red')\n",
    "plt.hist(a,bins,color='pink',label = 'Data')\n",
    "\n",
    "axes = plt.gca()\n",
    "axes.set_ylim([0,50])\n",
    "\n",
    "plt.xlabel('Redshift Data')\n",
    "plt.ylabel('Frequency')\n",
    "plt.title('Redshift of Member Galaxies')\n",
    "plt.plot(x,Gauss(x,Yay[0],Yay[1],Yay[2]))\n",
    "plt.grid()"
   ]
  },
  {
   "cell_type": "code",
   "execution_count": 20,
   "metadata": {},
   "outputs": [
    {
     "name": "stdout",
     "output_type": "stream",
     "text": [
      "The distance to the Coma Cluster is 103.27393225331369 Mpc\n"
     ]
    }
   ],
   "source": [
    "#Distance to Coma cluster using Dopler shift\n",
    "\n",
    "H_o = 67.9 * u.km *u.s**-1 *u.Mpc**-1\n",
    "v = 7012.3 * u.km * u.s**-1\n",
    "\n",
    "D_2 = v/H_o\n",
    "\n",
    "print(\"The distance to the Coma Cluster is\", D_2)"
   ]
  },
  {
   "cell_type": "code",
   "execution_count": 21,
   "metadata": {},
   "outputs": [
    {
     "name": "stdout",
     "output_type": "stream",
     "text": [
      "194.81224810449714 deg\n",
      "27.889903040620172 deg\n"
     ]
    }
   ],
   "source": [
    "#Weighted mean of RA for memeber galaxies (It1)\n",
    "def wavg(group, RA ,R_mag):\n",
    "\n",
    "    d = group[RA]\n",
    "    w = group[R_mag]\n",
    "    try:\n",
    "        return (d * w).sum() / w.sum()\n",
    "    except ZeroDivisionError:\n",
    "        return d.mean()\n",
    "\n",
    "RA = wavg(Gal_mem, \"RA\", \"R_mag\")\n",
    "print(RA * u.deg)\n",
    "\n",
    "#Weighted mean of DEC for member galaxies\n",
    "def wavg(group, DEC ,R_mag):\n",
    "\n",
    "    e = group[DEC]\n",
    "    f = group[R_mag]\n",
    "    try:\n",
    "        return (e * f).sum() / f.sum()\n",
    "    except ZeroDivisionError:\n",
    "        return e.mean()\n",
    "\n",
    "DEC_mean2 = wavg(Gal_mem, \"DEC\", \"R_mag\")\n",
    "print(DEC_mean2 * u.deg)"
   ]
  },
  {
   "cell_type": "code",
   "execution_count": 22,
   "metadata": {},
   "outputs": [
    {
     "name": "stdout",
     "output_type": "stream",
     "text": [
      "18      1.300620\n",
      "19      1.301461\n",
      "20      1.357004\n",
      "21      1.249107\n",
      "22      1.219595\n",
      "          ...   \n",
      "1175    1.123713\n",
      "1176    1.110205\n",
      "1177    1.243774\n",
      "1178    1.286438\n",
      "1181    1.354673\n",
      "Length: 495, dtype: float64\n"
     ]
    },
    {
     "data": {
      "text/latex": [
       "$0.7527011 \\; \\mathrm{Mpc\\,rad}$"
      ],
      "text/plain": [
       "<Quantity 0.7527011 Mpc rad>"
      ]
     },
     "execution_count": 22,
     "metadata": {},
     "output_type": "execute_result"
    }
   ],
   "source": [
    "#Finding the projected radial distances for member galaxies to the Coma Cluster (Iteration 1)\n",
    "\n",
    "RA_proj2 = Gal_mem.RA - RA_mean2\n",
    "DEC_proj2 = Gal_mem.DEC - DEC_mean2\n",
    "correction = np.cos(Gal_mem.DEC)\n",
    "angular_d = np.sqrt(((RA_proj2*correction)**2) + (DEC_proj2)**2)\n",
    "conv_angular = np.radians(angular_d)\n",
    "\n",
    "Proj_rad2 = np.tan(conv_angular* u.rad) * D_2\n",
    "print(Proj_rad2)\n",
    "\n",
    "np.mean(Proj_rad2 * u.rad)"
   ]
  },
  {
   "cell_type": "code",
   "execution_count": null,
   "metadata": {},
   "outputs": [],
   "source": []
  },
  {
   "cell_type": "code",
   "execution_count": 23,
   "metadata": {},
   "outputs": [
    {
     "data": {
      "image/png": "[encoded data removed]",
      "text/plain": [
       "<Figure size 432x288 with 1 Axes>"
      ]
     },
     "metadata": {
      "needs_background": "light"
     },
     "output_type": "display_data"
    }
   ],
   "source": [
    "def Gauss(x,amp,mean,sigma):\n",
    "    Gauss = amp*np.exp(-(x-mean)**2/(2*sigma**2))\n",
    "    return Gauss\n",
    "\n",
    "std = 0.009571\n",
    "mean = 0.02439\n",
    "x = np.linspace(0.00,0.05, 300)\n",
    "#y = np.arange(0.00,0.05,0.00005)+0.001\n",
    "y = scipy.stats.norm.pdf(x,mean,std)\n",
    "a = np.asarray(Gal_mem.Redshift,dtype=float)\n",
    "bins =int((0.05-0.005)/0.0009)\n",
    "\n",
    "Yay,Nay = curve_fit(Gauss,x,y)\n",
    "\n",
    "plt.plot(x,y, color = 'red')\n",
    "plt.hist(a,bins,color='pink',label = 'Data')\n",
    "\n",
    "axes = plt.gca()\n",
    "axes.set_ylim([0,50])\n",
    "\n",
    "plt.xlabel('Redshift Data')\n",
    "plt.ylabel('Frequency')\n",
    "plt.title('Redshift of Member Galaxies (Second Iteration)')\n",
    "plt.plot(x,Gauss(x,Yay[0],Yay[1],Yay[2]))\n",
    "plt.grid()"
   ]
  },
  {
   "cell_type": "code",
   "execution_count": 24,
   "metadata": {},
   "outputs": [
    {
     "name": "stdout",
     "output_type": "stream",
     "text": [
      "The distance to the Coma Cluster is 103.13402061855669\n"
     ]
    }
   ],
   "source": [
    "#Distance 3 to Coma cluster using Dopler shift\n",
    "\n",
    "H_o = 67.9 #* u.km *u.s**-1 *u.Mpc**-1\n",
    "v = 7002.8 #* u.km * u.s**-1\n",
    "\n",
    "D_3 = v/H_o\n",
    "\n",
    "print(\"The distance to the Coma Cluster is\", D_3)"
   ]
  },
  {
   "cell_type": "code",
   "execution_count": 25,
   "metadata": {},
   "outputs": [
    {
     "name": "stdout",
     "output_type": "stream",
     "text": [
      "194.81224810449714 deg\n",
      "27.889903040620172 deg\n"
     ]
    }
   ],
   "source": [
    "#Weighted mean of RA for memeber galaxies\n",
    "def wavg(group, RA_mean2 ,R_mag):\n",
    "\n",
    "    d = group[RA_mean2]\n",
    "    w = group[R_mag]\n",
    "    try:\n",
    "        return (d * w).sum() / w.sum()\n",
    "    except ZeroDivisionError:\n",
    "        return d.mean()\n",
    "\n",
    "RA_mean3 = wavg(Gal_mem, \"RA\", \"R_mag\")\n",
    "print(RA_mean3 * u.deg)\n",
    "\n",
    "#Weighted mean of DEC for member galaxies\n",
    "def wavg(group, DEC ,R_mag):\n",
    "\n",
    "    e = group[DEC]\n",
    "    f = group[R_mag]\n",
    "    try:\n",
    "        return (e * f).sum() / f.sum()\n",
    "    except ZeroDivisionError:\n",
    "        return e.mean()\n",
    "\n",
    "DEC_mean3 = wavg(Gal_mem, \"DEC\", \"R_mag\")\n",
    "print(DEC_mean3 * u.deg)"
   ]
  },
  {
   "cell_type": "code",
   "execution_count": 26,
   "metadata": {},
   "outputs": [
    {
     "name": "stdout",
     "output_type": "stream",
     "text": [
      "18      1.667498\n",
      "19      1.678979\n",
      "20      1.684008\n",
      "21      1.590000\n",
      "22      1.516439\n",
      "          ...   \n",
      "1175    1.509831\n",
      "1176    1.529916\n",
      "1177    1.508517\n",
      "1178    1.655915\n",
      "1181    1.705901\n",
      "Length: 495, dtype: float64\n"
     ]
    },
    {
     "data": {
      "text/latex": [
       "$1.826652 \\; \\mathrm{Mpc}$"
      ],
      "text/plain": [
       "<Quantity 1.82665196 Mpc>"
      ]
     },
     "execution_count": 26,
     "metadata": {},
     "output_type": "execute_result"
    }
   ],
   "source": [
    "#Finding the projected radial distances for member galaxies to the Coma Cluster (Iteration 2)\n",
    "\n",
    "RA_proj3 = Gal_mem.RA - RA_mean3\n",
    "DEC_proj3 = Gal_mem.DEC - DEC_mean3\n",
    "\n",
    "angular_d = np.sqrt((RA_proj2*correction)**2 + (np.cos(DEC_proj2)**2))\n",
    "conv_angular = np.radians(angular_d)\n",
    "\n",
    "Proj_rad3 = np.tan(conv_angular) * D_3\n",
    "print(Proj_rad3)\n",
    "\n",
    "np.mean(Proj_rad3) *u.Mpc\n",
    "\n"
   ]
  },
  {
   "cell_type": "code",
   "execution_count": null,
   "metadata": {},
   "outputs": [],
   "source": []
  },
  {
   "cell_type": "code",
   "execution_count": 27,
   "metadata": {},
   "outputs": [
    {
     "data": {
      "image/png": "[encoded data removed]",
      "text/plain": [
       "<Figure size 432x288 with 1 Axes>"
      ]
     },
     "metadata": {
      "needs_background": "light"
     },
     "output_type": "display_data"
    }
   ],
   "source": [
    "def Gauss(x,amp,mean,sigma):\n",
    "    Gauss = amp*np.exp(-(x-mean)**2/(2*sigma**2))\n",
    "    return Gauss\n",
    "\n",
    "std = 0.009999\n",
    "mean = 0.02469\n",
    "x = np.linspace(0.00,0.05, 300)\n",
    "#y = np.arange(0.00,0.05,0.00005)+0.001\n",
    "y = scipy.stats.norm.pdf(x,mean,std)\n",
    "a = np.asarray(Gal_mem.Redshift,dtype=float)\n",
    "bins =int((0.05-0.005)/0.0009)\n",
    "\n",
    "Yay,Nay = curve_fit(Gauss,x,y)\n",
    "\n",
    "plt.plot(x,y, color = 'red')\n",
    "plt.hist(a,bins,color='pink',label = 'Data')\n",
    "\n",
    "axes = plt.gca()\n",
    "axes.set_ylim([0,40])\n",
    "\n",
    "plt.xlabel('Redshift (Raw) Data')\n",
    "plt.ylabel('Frequency')\n",
    "plt.title('Redshift of Member Galaxies (Third Iteration)')\n",
    "plt.plot(x,Gauss(x,Yay[0],Yay[1],Yay[2]))\n",
    "plt.grid()"
   ]
  },
  {
   "cell_type": "code",
   "execution_count": 28,
   "metadata": {},
   "outputs": [
    {
     "name": "stdout",
     "output_type": "stream",
     "text": [
      "The distance to the Coma Cluster is 103.10603829160529 Mpc\n"
     ]
    }
   ],
   "source": [
    "#Distance to Coma cluster using Dopler shift (It3)\n",
    "\n",
    "H_o = 67.9 #u.km *u.s**-1 *u.Mpc**-1\n",
    "v_4 = 7000.9  #.km * u.s**-1\n",
    "\n",
    "D_4 = v_4/H_o\n",
    "\n",
    "print(\"The distance to the Coma Cluster is\", D_4 * u.Mpc)\n"
   ]
  },
  {
   "cell_type": "code",
   "execution_count": 29,
   "metadata": {},
   "outputs": [
    {
     "name": "stdout",
     "output_type": "stream",
     "text": [
      "194.81224810449714 deg\n",
      "27.889903040620172 deg\n"
     ]
    }
   ],
   "source": [
    "#Weighted mean of RA for member galaxies (It3)\n",
    "def wavg(group, RA ,R_mag):\n",
    "\n",
    "    d = group[RA]\n",
    "    w = group[R_mag]\n",
    "    try:\n",
    "        return (d * w).sum() / w.sum()\n",
    "    except ZeroDivisionError:\n",
    "        return d.mean()\n",
    "\n",
    "RA_mean4 = wavg(Gal_mem, \"RA\", \"R_mag\")\n",
    "print(RA_mean4 * u.deg)\n",
    "\n",
    "#Weighted mean of DEC for member galaxies\n",
    "def wavg(group, DEC ,R_mag):\n",
    "\n",
    "    e = group[DEC]\n",
    "    f = group[R_mag]\n",
    "    try:\n",
    "        return (e * f).sum() / f.sum()\n",
    "    except ZeroDivisionError:\n",
    "        return e.mean()\n",
    "\n",
    "DEC_mean4 = wavg(Gal_mem, \"DEC\", \"R_mag\")\n",
    "print(DEC_mean4 * u.deg)"
   ]
  },
  {
   "cell_type": "code",
   "execution_count": 30,
   "metadata": {},
   "outputs": [
    {
     "name": "stdout",
     "output_type": "stream",
     "text": [
      "18      1.667045\n",
      "19      1.678524\n",
      "20      1.683551\n",
      "21      1.589568\n",
      "22      1.516027\n",
      "          ...   \n",
      "1175    1.509421\n",
      "1176    1.529501\n",
      "1177    1.508108\n",
      "1178    1.655466\n",
      "1181    1.705438\n",
      "Length: 495, dtype: float64\n"
     ]
    },
    {
     "data": {
      "text/latex": [
       "$1.8261564 \\; \\mathrm{Mpc}$"
      ],
      "text/plain": [
       "<Quantity 1.82615635 Mpc>"
      ]
     },
     "execution_count": 30,
     "metadata": {},
     "output_type": "execute_result"
    }
   ],
   "source": [
    "#Finding the projected radial distances for member galaxies to the Coma Cluster (Iteration 3)\n",
    "\n",
    "RA_proj4 = Gal_mem.RA - RA_mean4\n",
    "DEC_proj4 = Gal_mem.DEC - DEC_mean4\n",
    "\n",
    "angular_d = np.sqrt((RA_proj3*correction)**2 + (np.cos(DEC_proj3)**2))\n",
    "conv_angular = np.radians(angular_d)\n",
    "\n",
    "Proj_rad4 = np.tan(conv_angular) * D_4\n",
    "print(Proj_rad4)\n",
    "\n",
    "np.mean(Proj_rad4 * u.Mpc)"
   ]
  },
  {
   "cell_type": "code",
   "execution_count": 31,
   "metadata": {},
   "outputs": [
    {
     "data": {
      "text/plain": [
       "Text(0.5, 1.0, 'Position of Raw and Member Galaxies in the Sky')"
      ]
     },
     "execution_count": 31,
     "metadata": {},
     "output_type": "execute_result"
    },
    {
     "data": {
      "image/png": "[encoded data removed]",
      "text/plain": [
       "<Figure size 504x504 with 1 Axes>"
      ]
     },
     "metadata": {
      "needs_background": "light"
     },
     "output_type": "display_data"
    }
   ],
   "source": [
    "#All galaxies with member galaxies plotted on top. Dashed line signifies 1.5 Mpc radius that was chosen for the galaxies\n",
    "\n",
    "\n",
    "plt.figure(figsize= (7,7))\n",
    "plt.scatter(data.RA, data.DEC, color = 'indigo', s=8, label = 'Raw Galactic Data')\n",
    "plt.scatter(Gal_mem.RA,Gal_mem.DEC, color = '#09F9F6',  s=8, label = 'Member Galaxies')\n",
    "\n",
    "center = (195,28)\n",
    "radius = 1.5\n",
    "\n",
    "x_circ = np.linspace(center[0]-radius,center[0]+radius)\n",
    "ytop_circ = np.sqrt(radius**2 - (x_circ-center[0])**2) + center[1]\n",
    "ybottom_circ = -np.sqrt(radius**2 - (x_circ-center[0])**2) + center[1]\n",
    "plt.plot(x_circ,ytop_circ,'g--', label = '1.5 Mpc radius')\n",
    "plt.plot(x_circ,ybottom_circ,'g--')\n",
    "\n",
    "\n",
    "\n",
    "\n",
    "plt.xlabel('Right Ascention (degrees)')\n",
    "plt.ylabel('Declination (degrees)')\n",
    "plt.legend(loc = 'upper right',prop={\"size\":12})\n",
    "plt.grid()\n",
    "plt.title('Position of Raw and Member Galaxies in the Sky')\n",
    "\n",
    "\n",
    "\n"
   ]
  },
  {
   "cell_type": "code",
   "execution_count": 32,
   "metadata": {},
   "outputs": [
    {
     "data": {
      "image/png": "[encoded data removed]",
      "text/plain": [
       "<Figure size 432x288 with 1 Axes>"
      ]
     },
     "metadata": {
      "needs_background": "light"
     },
     "output_type": "display_data"
    }
   ],
   "source": [
    "#Raw Redshift histogram with Member Galaxies' Redshifts plotted overtop as well as their Gaussians \n",
    "\n",
    "def Gauss(x,amp,mean,sigma):\n",
    "    Gauss = amp*np.exp(-(x-mean)**2/(2*sigma**2))\n",
    "    return Gauss\n",
    "\n",
    "bins =int((0.05-0.005)/0.00075)\n",
    "\n",
    "std = 0.002882\n",
    "mean = 0.02345\n",
    "x = np.linspace(0.00,0.05, 300)\n",
    "#y = np.arange(0.00,0.05,0.00005)+0.001\n",
    "y = scipy.stats.norm.pdf(x,mean,std)\n",
    "\n",
    "\n",
    "\n",
    "#print(data.Redshift)\n",
    "a = np.asarray(data.Redshift,dtype=float) \n",
    "\n",
    "\n",
    "\n",
    "\n",
    "Yay,Nay = curve_fit(Gauss,x,y)\n",
    "\n",
    "plt.plot(x,y, color = 'red')\n",
    "plt.hist(a,bins,color='Black',label = 'Raw Data')\n",
    "plt.xlabel('Redshift (Raw) Data')\n",
    "plt.ylabel('Frequency')\n",
    "plt.title('Redshift of all galaxies')\n",
    "plt.plot(x,Gauss(x,Yay[0],Yay[1],Yay[2]))\n",
    "plt.grid()\n",
    "\n",
    "\n",
    "\n",
    "std2 = 0.009999\n",
    "mean2 = 0.02399\n",
    "x = np.linspace(0.00,0.05, 300)\n",
    "#y = np.arange(0.00,0.05,0.00005)+0.001\n",
    "y = scipy.stats.norm.pdf(x,mean2,std2)\n",
    "a = np.asarray(Gal_mem.Redshift,dtype=float)\n",
    "bins =int((0.05-0.005)/0.0019)\n",
    "\n",
    "Yay,Nay = curve_fit(Gauss,x,y)\n",
    "\n",
    "plt.plot(x,y, color = 'red')\n",
    "plt.hist(a,bins,color='LightPink',label = 'Member Galaxies')\n",
    "\n",
    "axes = plt.gca()\n",
    "axes.set_ylim([0,40])\n",
    "\n",
    "plt.xlabel('Redshift Data')\n",
    "plt.ylabel('Frequency')\n",
    "plt.title('Redshift of Member Galaxies on top of Raw Galaxies')\n",
    "plt.legend()\n",
    "plt.plot(x,Gauss(x,Yay[0],Yay[1],Yay[2]))\n",
    "plt.grid()\n",
    "\n"
   ]
  },
  {
   "cell_type": "code",
   "execution_count": 33,
   "metadata": {},
   "outputs": [
    {
     "name": "stdout",
     "output_type": "stream",
     "text": [
      "      index               Object          RA        DEC     R_mag  \\\n",
      "18       20  1237665440441892890  194.391192  28.482257  13.26373   \n",
      "19       21  1237665440441892891  194.383143  28.476943  12.46939   \n",
      "20       22  1237665440441892904  194.354395  28.495893  16.69903   \n",
      "21       23  1237665440441892998  194.474743  28.499807  15.10212   \n",
      "22       24  1237665440441958487  194.562768  28.521783  16.36541   \n",
      "...     ...                  ...         ...        ...       ...   \n",
      "1175   1177  1237667323260960965  195.099584  27.286927  17.79181   \n",
      "1176   1178  1237667323260961158  195.128497  27.300180  17.76642   \n",
      "1177   1179  1237667323261026354  195.294710  27.246498  15.89053   \n",
      "1178   1180  1237667323261091954  195.522999  27.297272  15.92124   \n",
      "1181   1183  1237667323261157453  195.636449  27.295562  15.59799   \n",
      "\n",
      "     R_Extinction     R_err  Redshift         Z_Err  \n",
      "18     0.02493722  0.001721  0.020874  7.538812E-06  \n",
      "19     0.02470157  0.001545  0.022568  9.289376E-06  \n",
      "20     0.02523897  0.006840  0.023948  4.263176E-05  \n",
      "21     0.02496104  0.002510  0.024360  8.756586E-06  \n",
      "22     0.02428056  0.004942  0.023039  7.102034E-06  \n",
      "...           ...       ...       ...           ...  \n",
      "1175   0.02212152  0.011336  0.024242  8.798552E-05  \n",
      "1176   0.02186261  0.013945  0.025642  0.0001176265  \n",
      "1177   0.01862935  0.005571  0.020613  3.581416E-05  \n",
      "1178   0.02144059  0.003591  0.024280  1.386967E-05  \n",
      "1181   0.01983745  0.003505  0.025375  1.715199E-05  \n",
      "\n",
      "[495 rows x 9 columns]\n"
     ]
    }
   ],
   "source": [
    "print(Gal_mem)"
   ]
  },
  {
   "cell_type": "code",
   "execution_count": 36,
   "metadata": {
    "scrolled": true
   },
   "outputs": [
    {
     "name": "stderr",
     "output_type": "stream",
     "text": [
      "/opt/conda/lib/python3.7/site-packages/ipykernel_launcher.py:14: SettingWithCopyWarning: \n",
      "A value is trying to be set on a copy of a slice from a DataFrame.\n",
      "Try using .loc[row_indexer,col_indexer] = value instead\n",
      "\n",
      "See the caveats in the documentation: http://pandas.pydata.org/pandas-docs/stable/user_guide/indexing.html#returning-a-view-versus-a-copy\n",
      "  \n"
     ]
    }
   ],
   "source": [
    "#Finding Absolute R-band magnitudes\n",
    "\n",
    "\n",
    "m = Gal_mem.R_mag\n",
    "Gal_mem.R_mag = Gal_mem.R_mag.astype(float)\n",
    "A = Gal_mem.R_Extinction\n",
    "Gal_mem.R_Extinction = Gal_mem.R_Extinction.astype(float)\n",
    "v = Proj_rad4\n",
    "#Gal_mem.Proj_rad2 = Gal_mem.Proj_rad2.astype(float)\n",
    "#D = D_4, I just copy and pasted the distance in since the log would not apply when units were added to the number\n",
    "\n",
    "M = m - 5*np.log10(103.106*1e6) + 5 - A*v\n",
    "\n",
    "Gal_mem['Mr'] = M\n",
    "#print(Gal_mem.Mr.to_string())"
   ]
  },
  {
   "cell_type": "code",
   "execution_count": 37,
   "metadata": {},
   "outputs": [
    {
     "name": "stdout",
     "output_type": "stream",
     "text": [
      "18     -21.844261\n",
      "19     -22.638492\n",
      "20     -18.409881\n",
      "21     -20.003977\n",
      "22     -18.737820\n",
      "          ...    \n",
      "1175   -17.308000\n",
      "1176   -17.333439\n",
      "1177   -19.203985\n",
      "1178   -19.180674\n",
      "1181   -19.502261\n",
      "Name: Mr, Length: 495, dtype: float64\n"
     ]
    },
    {
     "name": "stderr",
     "output_type": "stream",
     "text": [
      "/opt/conda/lib/python3.7/site-packages/ipykernel_launcher.py:2: SettingWithCopyWarning: \n",
      "A value is trying to be set on a copy of a slice from a DataFrame.\n",
      "Try using .loc[row_indexer,col_indexer] = value instead\n",
      "\n",
      "See the caveats in the documentation: http://pandas.pydata.org/pandas-docs/stable/user_guide/indexing.html#returning-a-view-versus-a-copy\n",
      "  \n"
     ]
    }
   ],
   "source": [
    "#Creating Absolute Magnitude column\n",
    "Gal_mem['Mr'] = M\n",
    "print(Gal_mem.Mr)"
   ]
  },
  {
   "cell_type": "code",
   "execution_count": 38,
   "metadata": {},
   "outputs": [
    {
     "name": "stdout",
     "output_type": "stream",
     "text": [
      "18      4.382324e+10\n",
      "19      9.107449e+10\n",
      "20      1.853328e+09\n",
      "21      8.046199e+09\n",
      "22      2.506847e+09\n",
      "            ...     \n",
      "1175    6.717384e+08\n",
      "1176    6.876626e+08\n",
      "1177    3.851181e+09\n",
      "1178    3.769377e+09\n",
      "1181    5.068792e+09\n",
      "Name: Mr, Length: 495, dtype: float64\n"
     ]
    }
   ],
   "source": [
    "#Calculating Luminosity\n",
    "M_r = 4.76\n",
    "Distance = 103.10603829160529\n",
    "\n",
    "L = 10**((Gal_mem.Mr-(M_r))/(-2.5))\n",
    "print(L)\n"
   ]
  },
  {
   "cell_type": "code",
   "execution_count": 39,
   "metadata": {},
   "outputs": [
    {
     "name": "stdout",
     "output_type": "stream",
     "text": [
      "The total luminosity of the cluster is:\n",
      "  4.07E+12 W\n"
     ]
    },
    {
     "name": "stderr",
     "output_type": "stream",
     "text": [
      "/opt/conda/lib/python3.7/site-packages/ipykernel_launcher.py:3: SettingWithCopyWarning: \n",
      "A value is trying to be set on a copy of a slice from a DataFrame.\n",
      "Try using .loc[row_indexer,col_indexer] = value instead\n",
      "\n",
      "See the caveats in the documentation: http://pandas.pydata.org/pandas-docs/stable/user_guide/indexing.html#returning-a-view-versus-a-copy\n",
      "  This is separate from the ipykernel package so we can avoid doing imports until\n"
     ]
    }
   ],
   "source": [
    "#Creating Luminosity column\n",
    "\n",
    "Gal_mem[\"Luminosity\"] = L\n",
    "#print(Gal_mem.Luminosity.to_string())\n",
    "\n",
    "Lum_Tot = np.sum(Gal_mem['Luminosity']) \n",
    "print(\"The total luminosity of the cluster is:\")\n",
    "print(format(Lum_Tot * u.W, \"10.2E\"))\n",
    "\n",
    "#print(Gal_mem.Luminosity)"
   ]
  },
  {
   "cell_type": "code",
   "execution_count": null,
   "metadata": {},
   "outputs": [],
   "source": []
  },
  {
   "cell_type": "code",
   "execution_count": 40,
   "metadata": {},
   "outputs": [
    {
     "name": "stdout",
     "output_type": "stream",
     "text": [
      "18      1.307824\n",
      "19      1.308535\n",
      "20      1.366766\n",
      "21      1.254386\n",
      "22      1.222511\n",
      "          ...   \n",
      "1175    1.201983\n",
      "1176    1.204196\n",
      "1177    1.447191\n",
      "1178    1.665307\n",
      "1181    1.828591\n",
      "Length: 495, dtype: float64\n"
     ]
    }
   ],
   "source": [
    "#Radius from centre of cluster\n",
    "\n",
    "\n",
    "radius = D_4*np.pi/180*np.sqrt((Gal_mem.RA-RA_mean2)**2+(Gal_mem.DEC-DEC_mean2)**2)\n",
    "print(radius)\n"
   ]
  },
  {
   "cell_type": "code",
   "execution_count": 42,
   "metadata": {},
   "outputs": [
    {
     "name": "stderr",
     "output_type": "stream",
     "text": [
      "/opt/conda/lib/python3.7/site-packages/ipykernel_launcher.py:3: SettingWithCopyWarning: \n",
      "A value is trying to be set on a copy of a slice from a DataFrame.\n",
      "Try using .loc[row_indexer,col_indexer] = value instead\n",
      "\n",
      "See the caveats in the documentation: http://pandas.pydata.org/pandas-docs/stable/user_guide/indexing.html#returning-a-view-versus-a-copy\n",
      "  This is separate from the ipykernel package so we can avoid doing imports until\n"
     ]
    }
   ],
   "source": [
    "#Sorting the radius\n",
    "\n",
    "Gal_mem['Radius'] = radius\n",
    "#Gal_mem.Radius = Gal_mem.Radius[:-3]\n",
    "#print(Gal_mem.Radius.to_string())\n",
    "#Gal_mem.Radius = Gal_mem.Radius.astype(float)\n",
    "#Gal_mem.Radius = Gal_mem.Radius.sort_values\n"
   ]
  },
  {
   "cell_type": "code",
   "execution_count": 5,
   "metadata": {},
   "outputs": [],
   "source": [
    "radii = np.asarray(Gal_mem.Radius,dtype=float)\n",
    "lumin = np.asarray(Gal_mem.Luminosity,dtype=float)\n",
    "C_Lum = []\n",
    "\n",
    "for i,j in zip(radii,lumin):\n",
    "    if i <= 1.5:\n",
    "        C_Lum.append(j)\n",
    "Gal_mem['C_Lum'] = C_Lum       \n",
    "\n",
    "Gal_mem.C_Lum = Gal_mem.C_Lum.astype(int)\n",
    "\n",
    "Gal_mem['radii'] = radii\n",
    "\n",
    "#print(Gal_mem.radii.to_string())\n",
    "\n",
    "#print(C_Lum)\n",
    "\n",
    "\n",
    "\n",
    "#print(Norm)"
   ]
  },
  {
   "cell_type": "code",
   "execution_count": 393,
   "metadata": {},
   "outputs": [
    {
     "name": "stdout",
     "output_type": "stream",
     "text": [
      "495\n"
     ]
    }
   ],
   "source": [
    "Rad = []\n",
    "\n",
    "for r,u in zip(radii,lumin):\n",
    "    if r <= 1.5:\n",
    "        Rad.append(r)\n",
    "        \n",
    "\n",
    "Rad.sort()\n"
   ]
  },
  {
   "cell_type": "code",
   "execution_count": 237,
   "metadata": {},
   "outputs": [
    {
     "name": "stdout",
     "output_type": "stream",
     "text": [
      "1.04 km\n"
     ]
    }
   ],
   "source": [
    "#Calculating half radius from R_e\n",
    "\n",
    "R_e = 0.78\n",
    "\n",
    "r_half = (4*R_e)/3 \n",
    "print(r_half * u.km)"
   ]
  },
  {
   "cell_type": "code",
   "execution_count": 267,
   "metadata": {},
   "outputs": [
    {
     "name": "stdout",
     "output_type": "stream",
     "text": [
      "0.023431237110503326\n",
      "18     -0.002557\n",
      "19     -0.000864\n",
      "20      0.000517\n",
      "21      0.000929\n",
      "22     -0.000393\n",
      "          ...   \n",
      "1175    0.000810\n",
      "1176    0.002210\n",
      "1177   -0.002818\n",
      "1178    0.000848\n",
      "1181    0.001944\n",
      "Name: Redshift, Length: 495, dtype: float64\n"
     ]
    }
   ],
   "source": [
    "#Calculating Line of Sight Velocities\n",
    "\n",
    "Gal_mem.Redshift = Gal_mem.Redshift.astype(float)\n",
    "Gal_mem.Z_Err = Gal_mem.Z_Err.astype(float)\n",
    "\n",
    "def wavg(group, Redshift ,R_mag):\n",
    "\n",
    "    e = group[Redshift]\n",
    "    f = group[R_mag]\n",
    "    try:\n",
    "        return (e * f).sum() / f.sum()\n",
    "    except ZeroDivisionError:\n",
    "        return e.mean()\n",
    "\n",
    "Redshift_mean = wavg(Gal_mem, \"Redshift\", \"R_mag\")\n",
    "print(Redshift_mean)\n",
    "\n",
    "\n",
    "\n",
    "\n",
    "Loc = Gal_mem.Redshift - Redshift_mean\n",
    "print(Loc)"
   ]
  },
  {
   "cell_type": "code",
   "execution_count": 416,
   "metadata": {},
   "outputs": [
    {
     "name": "stdout",
     "output_type": "stream",
     "text": [
      "18      7000.902557\n",
      "19      7000.900864\n",
      "20      7000.899483\n",
      "21      7000.899071\n",
      "22      7000.900393\n",
      "           ...     \n",
      "1175    7000.899190\n",
      "1176    7000.897790\n",
      "1177    7000.902818\n",
      "1178    7000.899152\n",
      "1181    7000.898056\n",
      "Name: Redshift, Length: 495, dtype: float64\n"
     ]
    }
   ],
   "source": [
    "#Calculating peculiar velocities\n",
    "\n",
    "v_p = v_4-Loc\n",
    "print(v_p )\n",
    "#print(v_p.to_string())"
   ]
  },
  {
   "cell_type": "code",
   "execution_count": 293,
   "metadata": {},
   "outputs": [
    {
     "name": "stdout",
     "output_type": "stream",
     "text": [
      "2.031419370314843e+45 kg\n",
      "The mass of the Coma cluster is   1.02E+14 kg in solar masses\n"
     ]
    }
   ],
   "source": [
    "#Calculating half Mass ratio\n",
    "sigma = std3*10e13 * u.km * u.s**-1\n",
    "\n",
    "\n",
    "#std3 = 1000*10e3 * u.m * u.s**-1\n",
    "G = 6.67*10**-14 *u.km**3 *u.kg**-1 *u.s**-2\n",
    "\n",
    "M_2 = (3*sigma**2*(r_half*10e-3 *u.km)/G)\n",
    "\n",
    "print(M_2)\n",
    "\n",
    "#Finding the mass in terms of solar masses\n",
    "\n",
    "M_Solar_mass = 1.989*10e30 * u.kg\n",
    "\n",
    "Mass = M_2/M_Solar_mass\n",
    "\n",
    "print('The mass of the Coma cluster is',format(Mass * u.kg,\"10.2E\"),\"in solar masses\")"
   ]
  },
  {
   "cell_type": "code",
   "execution_count": 294,
   "metadata": {},
   "outputs": [
    {
     "name": "stdout",
     "output_type": "stream",
     "text": [
      "The Mass to Luminosity Ratio of the Coma Cluster is: 353.400340334616\n"
     ]
    }
   ],
   "source": [
    "#Mass to Light Ratio\n",
    "\n",
    "Lum = 2.89*10e10 #In solar luminosities \n",
    "Ratio = Mass/Lum\n",
    "print('The Mass to Luminosity Ratio of the Coma Cluster is:',Ratio)"
   ]
  },
  {
   "cell_type": "code",
   "execution_count": null,
   "metadata": {},
   "outputs": [],
   "source": []
  }
 ],
 "metadata": {
  "kernelspec": {
   "display_name": "Python 3",
   "language": "python",
   "name": "python3"
  },
  "language_info": {
   "codemirror_mode": {
    "name": "ipython",
    "version": 3
   },
   "file_extension": ".py",
   "mimetype": "text/x-python",
   "name": "python",
   "nbconvert_exporter": "python",
   "pygments_lexer": "ipython3",
   "version": "3.7.3"
  }
 },
 "nbformat": 4,
 "nbformat_minor": 4
}
